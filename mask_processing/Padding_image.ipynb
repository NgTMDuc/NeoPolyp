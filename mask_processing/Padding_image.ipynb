{
 "cells": [
  {
   "cell_type": "code",
   "execution_count": 1,
   "id": "0d257a56",
   "metadata": {},
   "outputs": [],
   "source": [
    "import numpy as np\n",
    "import pandas as pd\n",
    "import matplotlib.pyplot as plt\n",
    "import matplotlib.patches as patches\n",
    "import matplotlib.image as mpimg\n",
    "from glob import glob\n",
    "from PIL import Image\n",
    "from matplotlib.offsetbox import OffsetImage, AnnotationBbox\n",
    "import cv2\n",
    "import extcolors\n",
    "from colormap import rgb2hex\n",
    "import pathlib\n",
    "import os\n",
    "from PIL import Image"
   ]
  },
  {
   "cell_type": "code",
   "execution_count": 2,
   "id": "41ebac4a",
   "metadata": {},
   "outputs": [],
   "source": [
    "H = 1280\n",
    "W = 1280\n",
    "size = (H, W)"
   ]
  },
  {
   "cell_type": "code",
   "execution_count": 3,
   "id": "3b1f1c88",
   "metadata": {},
   "outputs": [
    {
     "name": "stdout",
     "output_type": "stream",
     "text": [
      "D:\\Self_Learning\\EDA_For_Image\\notebook\n"
     ]
    }
   ],
   "source": [
    "root = pathlib.Path.cwd()\n",
    "print(root)"
   ]
  },
  {
   "cell_type": "code",
   "execution_count": 4,
   "id": "087a78f4",
   "metadata": {},
   "outputs": [
    {
     "name": "stdout",
     "output_type": "stream",
     "text": [
      "D:\\Self_Learning\\EDA_For_Image\n"
     ]
    }
   ],
   "source": [
    "%cd .."
   ]
  },
  {
   "cell_type": "code",
   "execution_count": 5,
   "id": "43e02c66",
   "metadata": {},
   "outputs": [
    {
     "name": "stdout",
     "output_type": "stream",
     "text": [
      "D:\\Self_Learning\\EDA_For_Image\n"
     ]
    }
   ],
   "source": [
    "root = pathlib.Path.cwd()\n",
    "print(root)"
   ]
  },
  {
   "cell_type": "code",
   "execution_count": 6,
   "id": "fc2d7120",
   "metadata": {},
   "outputs": [],
   "source": [
    "test_image = sorted(glob(os.path.join(root,\"data\", \"new_train_gt\", \"*.png\")))"
   ]
  },
  {
   "cell_type": "code",
   "execution_count": 7,
   "id": "9d0b9e68",
   "metadata": {},
   "outputs": [
    {
     "name": "stdout",
     "output_type": "stream",
     "text": [
      "1000\n"
     ]
    }
   ],
   "source": [
    "print(len(test_image))"
   ]
  },
  {
   "cell_type": "code",
   "execution_count": 8,
   "id": "fb30f193",
   "metadata": {},
   "outputs": [],
   "source": [
    "# from PIL import Image\n",
    "\n",
    "# old_im = Image.open(test_image[0])\n",
    "# old_size = old_im.size\n",
    "\n",
    "# new_size = (1280, 1280)\n",
    "# new_im = Image.new(\"RGB\", new_size)   ## luckily, this is already black!\n",
    "# box = tuple((n - o) // 2 for n, o in zip(new_size, old_size))\n",
    "# new_im.paste(old_im, box)\n",
    "\n",
    "# # new_im.show()\n",
    "# new_im.save('someimage.jpg')"
   ]
  },
  {
   "cell_type": "code",
   "execution_count": 9,
   "id": "0bad67a3",
   "metadata": {},
   "outputs": [],
   "source": [
    "for image in test_image:\n",
    "    old_im = Image.open(image)\n",
    "    old_size = old_im.size\n",
    "    \n",
    "    \"\"\" Extracting name \"\"\"\n",
    "    name = image.split(\"\\\\\")[-1]\n",
    "    \n",
    "    new_size = (1280, 1280)\n",
    "    new_im = Image.new(\"RGB\", new_size)   ## luckily, this is already black!\n",
    "    box = tuple((n - o) // 2 for n, o in zip(new_size, old_size))\n",
    "    new_im.paste(old_im, box)\n",
    "    path_save = os.path.join(root, \"data\", \"reshape_new_train_gt\", name)\n",
    "    new_im.save(path_save)"
   ]
  },
  {
   "cell_type": "code",
   "execution_count": null,
   "id": "3c715bc7",
   "metadata": {},
   "outputs": [],
   "source": []
  }
 ],
 "metadata": {
  "kernelspec": {
   "display_name": "Python 3 (ipykernel)",
   "language": "python",
   "name": "python3"
  },
  "language_info": {
   "codemirror_mode": {
    "name": "ipython",
    "version": 3
   },
   "file_extension": ".py",
   "mimetype": "text/x-python",
   "name": "python",
   "nbconvert_exporter": "python",
   "pygments_lexer": "ipython3",
   "version": "3.10.4"
  }
 },
 "nbformat": 4,
 "nbformat_minor": 5
}
