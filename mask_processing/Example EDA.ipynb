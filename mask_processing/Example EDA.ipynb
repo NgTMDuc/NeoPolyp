{
 "cells": [
  {
   "cell_type": "code",
   "execution_count": 1,
   "id": "8ffa3c69",
   "metadata": {},
   "outputs": [],
   "source": [
    "import numpy as np\n",
    "import pandas as pd\n",
    "import matplotlib.pyplot as plt\n",
    "import matplotlib.patches as patches\n",
    "import matplotlib.image as mpimg\n",
    "from glob import glob\n",
    "from PIL import Image\n",
    "from matplotlib.offsetbox import OffsetImage, AnnotationBbox\n",
    "import cv2\n",
    "import extcolors\n",
    "from colormap import rgb2hex\n",
    "import pathlib\n",
    "import os"
   ]
  },
  {
   "cell_type": "code",
   "execution_count": 2,
   "id": "945e3718",
   "metadata": {},
   "outputs": [
    {
     "name": "stdout",
     "output_type": "stream",
     "text": [
      "D:\\Self_Learning\\EDA_For_Image\\notebook\n"
     ]
    }
   ],
   "source": [
    "root = pathlib.Path.cwd()\n",
    "print(root)"
   ]
  },
  {
   "cell_type": "code",
   "execution_count": 3,
   "id": "2e4e41af",
   "metadata": {},
   "outputs": [
    {
     "name": "stdout",
     "output_type": "stream",
     "text": [
      "D:\\Self_Learning\\EDA_For_Image\n"
     ]
    }
   ],
   "source": [
    "%cd .."
   ]
  },
  {
   "cell_type": "code",
   "execution_count": 4,
   "id": "941f3e9c",
   "metadata": {},
   "outputs": [
    {
     "name": "stdout",
     "output_type": "stream",
     "text": [
      "D:\\Self_Learning\\EDA_For_Image\n"
     ]
    }
   ],
   "source": [
    "root = pathlib.Path.cwd()\n",
    "print(root)"
   ]
  },
  {
   "cell_type": "code",
   "execution_count": null,
   "id": "3b9a6142",
   "metadata": {},
   "outputs": [],
   "source": []
  },
  {
   "cell_type": "code",
   "execution_count": 5,
   "id": "210ce645",
   "metadata": {},
   "outputs": [],
   "source": [
    "test_image = sorted(glob(os.path.join(root,\"data\", \"train_gt\", \"*.jpeg\")))"
   ]
  },
  {
   "cell_type": "code",
   "execution_count": 6,
   "id": "7ff51f54",
   "metadata": {},
   "outputs": [],
   "source": [
    "def QuantizeToGivenPalette(im, palette):\n",
    "    \"\"\"Quantize image to a given palette.\n",
    "    \n",
    "    The input image is expected to be a Numpy array.\n",
    "    The palette is expected to be a list of R,G,B values.\"\"\"\n",
    "\n",
    "    # Calculate the distance to each palette entry from each pixel\n",
    "    distance = np.linalg.norm(im[:,:,None] - palette[None,None,:], axis=3)\n",
    "\n",
    "    # Now choose whichever one of the palette colours is nearest for each pixel\n",
    "    palettised = np.argmin(distance, axis=2).astype(np.uint8)\n",
    "\n",
    "    return palettised"
   ]
  },
  {
   "cell_type": "code",
   "execution_count": 7,
   "id": "fd25a0de",
   "metadata": {},
   "outputs": [],
   "source": [
    "inPalette = np.array([\n",
    "   [0,0,0],             # black\n",
    "   [0,0,255],           # red\n",
    "   [0,255,0]],           # green\n",
    "   )\n"
   ]
  },
  {
   "cell_type": "code",
   "execution_count": 8,
   "id": "fb9cc70f",
   "metadata": {},
   "outputs": [],
   "source": [
    "LUT = np.zeros((3,3),dtype=np.uint8)\n",
    "LUT[0]=[0,0,0]\n",
    "LUT[1]=[255,0,0]  \n",
    "LUT[2]=[0,255,0] \n"
   ]
  },
  {
   "cell_type": "code",
   "execution_count": 9,
   "id": "346f3fad",
   "metadata": {},
   "outputs": [],
   "source": [
    "for x in test_image:\n",
    "    \"\"\" Extracting name \"\"\"\n",
    "    name = x.split(\"\\\\\")[-1].split(\".\")[0]\n",
    "#     print(name)\n",
    "\n",
    "    img = cv2.imread(x)\n",
    "#     print(set( tuple(v) for m2d in img for v in m2d ))\n",
    "#     break\n",
    "    image_name = f\"{name}_processed.png\"\n",
    "    save = os.path.join(root, \"data\",\"new_train_gt\", image_name)\n",
    "    r = QuantizeToGivenPalette(img,inPalette)\n",
    "    result = LUT[r]\n",
    "    img = Image.fromarray(result, \"RGB\")\n",
    "    img.save(save)"
   ]
  },
  {
   "cell_type": "code",
   "execution_count": 10,
   "id": "14b76f72",
   "metadata": {},
   "outputs": [],
   "source": [
    "images = sorted(glob(os.path.join(root,\"data\", \"new_train_gt\", \"*.png\")))"
   ]
  },
  {
   "cell_type": "code",
   "execution_count": 11,
   "id": "4ccbc1fd",
   "metadata": {},
   "outputs": [],
   "source": [
    "img = cv2.imread(images[0])"
   ]
  },
  {
   "cell_type": "code",
   "execution_count": 12,
   "id": "034e5d0c",
   "metadata": {
    "scrolled": true
   },
   "outputs": [
    {
     "data": {
      "text/plain": [
       "{(0, 0, 0), (0, 0, 255)}"
      ]
     },
     "execution_count": 12,
     "metadata": {},
     "output_type": "execute_result"
    }
   ],
   "source": [
    "set( tuple(v) for m2d in img for v in m2d )"
   ]
  },
  {
   "cell_type": "code",
   "execution_count": 13,
   "id": "4379db16",
   "metadata": {},
   "outputs": [],
   "source": [
    "r = QuantizeToGivenPalette(img,inPalette)"
   ]
  },
  {
   "cell_type": "code",
   "execution_count": 14,
   "id": "404e3791",
   "metadata": {},
   "outputs": [],
   "source": [
    "result = LUT[r]"
   ]
  },
  {
   "cell_type": "code",
   "execution_count": 15,
   "id": "3955bcf8",
   "metadata": {},
   "outputs": [
    {
     "data": {
      "text/plain": [
       "{(0, 0, 0), (255, 0, 0)}"
      ]
     },
     "execution_count": 15,
     "metadata": {},
     "output_type": "execute_result"
    }
   ],
   "source": [
    "set( tuple(v) for m2d in result for v in m2d )"
   ]
  },
  {
   "cell_type": "code",
   "execution_count": null,
   "id": "7275f743",
   "metadata": {},
   "outputs": [],
   "source": []
  }
 ],
 "metadata": {
  "kernelspec": {
   "display_name": "Python 3 (ipykernel)",
   "language": "python",
   "name": "python3"
  },
  "language_info": {
   "codemirror_mode": {
    "name": "ipython",
    "version": 3
   },
   "file_extension": ".py",
   "mimetype": "text/x-python",
   "name": "python",
   "nbconvert_exporter": "python",
   "pygments_lexer": "ipython3",
   "version": "3.10.4"
  }
 },
 "nbformat": 4,
 "nbformat_minor": 5
}
